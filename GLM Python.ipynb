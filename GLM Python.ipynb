{
 "cells": [
  {
   "cell_type": "markdown",
   "metadata": {
    "collapsed": false
   },
   "source": [
    "## GLM implimentation from first principles ##\n",
    "In this notebook I compare the results obtained from a piece of code written based on first principles and statsmodels implimentation of GLMs\n",
    "### GLM Linear Regression ###"
   ]
  },
  {
   "cell_type": "code",
   "execution_count": 1,
   "metadata": {
    "collapsed": true
   },
   "outputs": [],
   "source": [
    "def glm_fit(X,Y):\n",
    "    y=Y\n",
    "    beta=np.zeros(X.shape[1])\n",
    "    H=np.dot(X.T,X)\n",
    "    log_like_hist=[]\n",
    "    Converged=False\n",
    "    for i in range(29):\n",
    "        nabla=np.dot(np.matmul(X.T,X),beta)-np.dot(X.T,y)\n",
    "        beta=beta-np.dot(np.linalg.inv(H),nabla)\n",
    "    log_lik_1=np.dot(np.transpose(y-np.dot(X,beta)),(y-np.dot(X,beta)))\n",
    "    sigma_2=log_lik_1/(X.shape[0]-X.shape[1])\n",
    "    log_lik_constants=-0.5*X.shape[0]*np.log(2*np.pi)-X.shape[0]*np.log(np.sqrt(sigma_2))\n",
    "    log_lik=log_lik_constants-(0.5*log_lik_1)/(sigma_2)\n",
    "    SE=np.diag(np.sqrt(np.abs(np.linalg.inv(H)*sigma_2)))\n",
    "        \n",
    "    return {'Coefficients':beta,'Log_Lik':log_lik,'Std.Err':SE}"
   ]
  },
  {
   "cell_type": "code",
   "execution_count": 2,
   "metadata": {
    "collapsed": true
   },
   "outputs": [],
   "source": [
    "import numpy as np\n",
    "import pandas as pd\n",
    "from pandas import DataFrame,Series\n",
    "import os"
   ]
  },
  {
   "cell_type": "code",
   "execution_count": 5,
   "metadata": {
    "collapsed": false
   },
   "outputs": [],
   "source": [
    "os.chdir(\"/Users/gunnvantsaini/Documents/Ebooks/Programming and Statistical Packages/R/Data\")\n",
    "data=pd.read_csv(\"HousePrices.csv\")\n",
    "data['ones']=np.ones(data.shape[0])\n",
    "X=data[['ones',\"SqFt\",\"Bedrooms\"]]\n",
    "y=data[\"Price\"]"
   ]
  },
  {
   "cell_type": "code",
   "execution_count": 7,
   "metadata": {
    "collapsed": false
   },
   "outputs": [
    {
     "data": {
      "text/plain": [
       "{'Coefficients': array([ -6367.59669871,     49.49885995,  12486.05779548]),\n",
       " 'Log_Lik': -1454.6301249455346,\n",
       " 'Std.Err': array([  1.78279148e+04,   1.01122638e+01,   2.94713432e+03])}"
      ]
     },
     "execution_count": 7,
     "metadata": {},
     "output_type": "execute_result"
    }
   ],
   "source": [
    "glm_fit(X,y)"
   ]
  },
  {
   "cell_type": "code",
   "execution_count": 8,
   "metadata": {
    "collapsed": false
   },
   "outputs": [
    {
     "name": "stdout",
     "output_type": "stream",
     "text": [
      "                 Generalized Linear Model Regression Results                  \n",
      "==============================================================================\n",
      "Dep. Variable:                  Price   No. Observations:                  128\n",
      "Model:                            GLM   Df Residuals:                      125\n",
      "Model Family:                Gaussian   Df Model:                            2\n",
      "Link Function:               identity   Scale:                   445254299.235\n",
      "Method:                          IRLS   Log-Likelihood:                -1454.6\n",
      "Date:                Tue, 03 Jan 2017   Deviance:                   5.5657e+10\n",
      "Time:                        23:40:40   Pearson chi2:                 5.57e+10\n",
      "No. Iterations:                     4                                         \n",
      "==============================================================================\n",
      "                 coef    std err          z      P>|z|      [95.0% Conf. Int.]\n",
      "------------------------------------------------------------------------------\n",
      "Intercept  -6367.5967   1.78e+04     -0.357      0.721     -4.13e+04  2.86e+04\n",
      "SqFt          49.4989     10.112      4.895      0.000        29.679    69.319\n",
      "Bedrooms    1.249e+04   2947.134      4.237      0.000      6709.781  1.83e+04\n",
      "==============================================================================\n"
     ]
    }
   ],
   "source": [
    "'''\n",
    "Check the results using standard glm implimentation\n",
    "\n",
    "'''i\n",
    "mport statsmodels.formula.api as smf\n",
    "import statsmodels.api as sm\n",
    "mod=smf.glm(\"Price~SqFt+Bedrooms\",data=data,family=sm.families.Gaussian()).fit()\n",
    "print mod.summary()"
   ]
  },
  {
   "cell_type": "markdown",
   "metadata": {},
   "source": [
    "### GLM Logistic ###"
   ]
  },
  {
   "cell_type": "code",
   "execution_count": 9,
   "metadata": {
    "collapsed": true
   },
   "outputs": [],
   "source": [
    "def glm_logistic(X,y):\n",
    "    beta=np.zeros(X.shape[1])\n",
    "    for i in range(29):\n",
    "        p=1/(1+np.exp(np.dot(-1*X,beta)))\n",
    "        nabla=np.dot(X.T,(p-y))\n",
    "        B=np.diag(p*(1-(1*p)))\n",
    "        H=np.dot(np.dot(X.T,B),X)\n",
    "        beta=beta-np.dot(np.linalg.inv(H),nabla)\n",
    "    log_lik=np.dot(y,np.log(p))+np.dot((1-y),np.log(1-p))\n",
    "    SE=np.diag(np.sqrt(np.abs(np.linalg.inv(H))))\n",
    "    return {'Coefficients':beta,'Log_lik':log_lik,'Std.Err':SE}\n"
   ]
  },
  {
   "cell_type": "code",
   "execution_count": 10,
   "metadata": {
    "collapsed": true
   },
   "outputs": [],
   "source": [
    "data=pd.read_csv(\"DeathPenalty.csv\")\n",
    "data['ones']=np.ones(data.shape[0])\n",
    "X=data[['ones','Agg','VRace']]\n",
    "y=data['Death']"
   ]
  },
  {
   "cell_type": "code",
   "execution_count": 12,
   "metadata": {
    "collapsed": false
   },
   "outputs": [
    {
     "data": {
      "text/plain": [
       "{'Coefficients': array([-6.67597507,  1.53966135,  1.81064663]),\n",
       " 'Log_lik': -56.738362454825115,\n",
       " 'Std.Err': array([ 0.75744456,  0.18672636,  0.53611602])}"
      ]
     },
     "execution_count": 12,
     "metadata": {},
     "output_type": "execute_result"
    }
   ],
   "source": [
    "glm_logistic(X,y)   "
   ]
  },
  {
   "cell_type": "code",
   "execution_count": 13,
   "metadata": {
    "collapsed": false
   },
   "outputs": [
    {
     "data": {
      "text/html": [
       "<table class=\"simpletable\">\n",
       "<caption>Generalized Linear Model Regression Results</caption>\n",
       "<tr>\n",
       "  <th>Dep. Variable:</th>        <td>Death</td>      <th>  No. Observations:  </th>  <td>   362</td> \n",
       "</tr>\n",
       "<tr>\n",
       "  <th>Model:</th>                 <td>GLM</td>       <th>  Df Residuals:      </th>  <td>   359</td> \n",
       "</tr>\n",
       "<tr>\n",
       "  <th>Model Family:</th>       <td>Binomial</td>     <th>  Df Model:          </th>  <td>     2</td> \n",
       "</tr>\n",
       "<tr>\n",
       "  <th>Link Function:</th>        <td>logit</td>      <th>  Scale:             </th>    <td>1.0</td>  \n",
       "</tr>\n",
       "<tr>\n",
       "  <th>Method:</th>               <td>IRLS</td>       <th>  Log-Likelihood:    </th> <td> -56.738</td>\n",
       "</tr>\n",
       "<tr>\n",
       "  <th>Date:</th>           <td>Tue, 03 Jan 2017</td> <th>  Deviance:          </th> <td>  113.48</td>\n",
       "</tr>\n",
       "<tr>\n",
       "  <th>Time:</th>               <td>23:42:02</td>     <th>  Pearson chi2:      </th>  <td>  340.</td> \n",
       "</tr>\n",
       "<tr>\n",
       "  <th>No. Iterations:</th>         <td>9</td>        <th>                     </th>     <td> </td>   \n",
       "</tr>\n",
       "</table>\n",
       "<table class=\"simpletable\">\n",
       "<tr>\n",
       "      <td></td>         <th>coef</th>     <th>std err</th>      <th>z</th>      <th>P>|z|</th> <th>[95.0% Conf. Int.]</th> \n",
       "</tr>\n",
       "<tr>\n",
       "  <th>Intercept</th> <td>   -6.6760</td> <td>    0.757</td> <td>   -8.814</td> <td> 0.000</td> <td>   -8.161    -5.191</td>\n",
       "</tr>\n",
       "<tr>\n",
       "  <th>Agg</th>       <td>    1.5397</td> <td>    0.187</td> <td>    8.246</td> <td> 0.000</td> <td>    1.174     1.906</td>\n",
       "</tr>\n",
       "<tr>\n",
       "  <th>VRace</th>     <td>    1.8106</td> <td>    0.536</td> <td>    3.377</td> <td> 0.001</td> <td>    0.760     2.861</td>\n",
       "</tr>\n",
       "</table>"
      ],
      "text/plain": [
       "<class 'statsmodels.iolib.summary.Summary'>\n",
       "\"\"\"\n",
       "                 Generalized Linear Model Regression Results                  \n",
       "==============================================================================\n",
       "Dep. Variable:                  Death   No. Observations:                  362\n",
       "Model:                            GLM   Df Residuals:                      359\n",
       "Model Family:                Binomial   Df Model:                            2\n",
       "Link Function:                  logit   Scale:                             1.0\n",
       "Method:                          IRLS   Log-Likelihood:                -56.738\n",
       "Date:                Tue, 03 Jan 2017   Deviance:                       113.48\n",
       "Time:                        23:42:02   Pearson chi2:                     340.\n",
       "No. Iterations:                     9                                         \n",
       "==============================================================================\n",
       "                 coef    std err          z      P>|z|      [95.0% Conf. Int.]\n",
       "------------------------------------------------------------------------------\n",
       "Intercept     -6.6760      0.757     -8.814      0.000        -8.161    -5.191\n",
       "Agg            1.5397      0.187      8.246      0.000         1.174     1.906\n",
       "VRace          1.8106      0.536      3.377      0.001         0.760     2.861\n",
       "==============================================================================\n",
       "\"\"\""
      ]
     },
     "execution_count": 13,
     "metadata": {},
     "output_type": "execute_result"
    }
   ],
   "source": [
    "'''\n",
    "Check the results using standard glm implimentation\n",
    "\n",
    "'''\n",
    "mod=smf.glm('Death~Agg+VRace',data=data,family=sm.families.Binomial()).fit()\n",
    "\n",
    "mod.summary()"
   ]
  },
  {
   "cell_type": "markdown",
   "metadata": {},
   "source": [
    "### GLM Poisson ###"
   ]
  },
  {
   "cell_type": "code",
   "execution_count": 14,
   "metadata": {
    "collapsed": true
   },
   "outputs": [],
   "source": [
    "def glm_poison(X,y):\n",
    "    beta=np.zeros(X.shape[1])\n",
    "    for i in range(29):\n",
    "        mean=np.exp(np.dot(X,beta))\n",
    "        nabla=np.dot(X.T,(y-mean))\n",
    "        B=np.diag(mean)\n",
    "        H=-np.dot(np.dot(X.T,B),X)\n",
    "        beta=beta-np.dot(np.linalg.inv(H),nabla)\n",
    "    SE=np.diag(np.sqrt(np.abs(np.linalg.inv(H))))\n",
    "    return {'Coefficient':beta,'Std.Err':SE}\n"
   ]
  },
  {
   "cell_type": "code",
   "execution_count": 15,
   "metadata": {
    "collapsed": true
   },
   "outputs": [],
   "source": [
    "data=pd.read_csv('poisson_sim.csv')\n",
    "data['ones']=np.ones(data.shape[0])\n",
    "X=data[['ones','prog','math']]\n",
    "y=data['num_awards']"
   ]
  },
  {
   "cell_type": "code",
   "execution_count": 16,
   "metadata": {
    "collapsed": false
   },
   "outputs": [
    {
     "data": {
      "text/plain": [
       "{'Coefficient': array([-5.57805691,  0.12327256,  0.086121  ]),\n",
       " 'Std.Err': array([ 0.67682258,  0.16326106,  0.00958606])}"
      ]
     },
     "execution_count": 16,
     "metadata": {},
     "output_type": "execute_result"
    }
   ],
   "source": [
    "glm_poison(X,y)"
   ]
  },
  {
   "cell_type": "code",
   "execution_count": 17,
   "metadata": {
    "collapsed": false
   },
   "outputs": [
    {
     "name": "stdout",
     "output_type": "stream",
     "text": [
      "                 Generalized Linear Model Regression Results                  \n",
      "==============================================================================\n",
      "Dep. Variable:             num_awards   No. Observations:                  200\n",
      "Model:                            GLM   Df Residuals:                      197\n",
      "Model Family:                 Poisson   Df Model:                            2\n",
      "Link Function:                    log   Scale:                             1.0\n",
      "Method:                          IRLS   Log-Likelihood:                -189.75\n",
      "Date:                Tue, 03 Jan 2017   Deviance:                       203.45\n",
      "Time:                        23:43:33   Pearson chi2:                     227.\n",
      "No. Iterations:                     8                                         \n",
      "==============================================================================\n",
      "                 coef    std err          z      P>|z|      [95.0% Conf. Int.]\n",
      "------------------------------------------------------------------------------\n",
      "Intercept     -5.5781      0.677     -8.242      0.000        -6.905    -4.252\n",
      "prog           0.1233      0.163      0.755      0.450        -0.197     0.443\n",
      "math           0.0861      0.010      8.984      0.000         0.067     0.105\n",
      "==============================================================================\n"
     ]
    }
   ],
   "source": [
    "'''\n",
    "Check the results using standard glm implimentation\n",
    "\n",
    "'''\n",
    "mod=smf.glm('num_awards~prog+math',data=data,family=sm.families.Poisson()).fit()\n",
    "print mod.summary()"
   ]
  },
  {
   "cell_type": "code",
   "execution_count": null,
   "metadata": {
    "collapsed": true
   },
   "outputs": [],
   "source": []
  }
 ],
 "metadata": {
  "anaconda-cloud": {},
  "kernelspec": {
   "display_name": "Python [default]",
   "language": "python",
   "name": "python2"
  },
  "language_info": {
   "codemirror_mode": {
    "name": "ipython",
    "version": 2
   },
   "file_extension": ".py",
   "mimetype": "text/x-python",
   "name": "python",
   "nbconvert_exporter": "python",
   "pygments_lexer": "ipython2",
   "version": "2.7.12"
  }
 },
 "nbformat": 4,
 "nbformat_minor": 1
}
