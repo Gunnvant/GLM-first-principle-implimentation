{
 "cells": [
  {
   "cell_type": "markdown",
   "metadata": {},
   "source": [
    "## GLM Script Containing First Principle Implementation of GLM ##\n",
    "\n",
    "In this notebook I show the comparaison of results between glm written using first principles and base R implimentation of GLM in glm()\n",
    "\n",
    "### GLM Linear Regression ###"
   ]
  },
  {
   "cell_type": "code",
   "execution_count": 1,
   "metadata": {
    "collapsed": true
   },
   "outputs": [],
   "source": [
    "glm_linear<-function(X,y)\n",
    "{\n",
    "  beta<-rep(0,ncol(X))\n",
    "  H=t(X)%*%as.matrix(X)\n",
    "  for(i in 1:29)\n",
    "  {\n",
    "    nabla<-(t(X)%*%as.matrix(X))%*%(beta)-t(X)%*%y\n",
    "    beta=beta-(solve(H)%*%nabla)\n",
    "  }\n",
    "log_lik_1<-t(y-(as.matrix(X) %*% beta))%*%(y-(as.matrix(X) %*% beta))\n",
    "sigma_2=log_lik_1/(nrow(X)-ncol(X))\n",
    "log_lik_constants=-0.5*nrow(X)*log(2*pi)-nrow(X)*log(sqrt(sigma_2))\n",
    "log_lik=log_lik_constants-(0.5*log_lik_1)/(sigma_2)\n",
    "SE=diag(sqrt(abs(solve(H)*as.numeric(sigma_2))))\n",
    "results<-list(Coefficients=beta,Log_Lik=log_lik,Std.Err=SE)\n",
    "return(results)\n",
    "}"
   ]
  },
  {
   "cell_type": "code",
   "execution_count": 3,
   "metadata": {
    "collapsed": true
   },
   "outputs": [],
   "source": [
    "##Reading data ##\n",
    "setwd(\"/Users/gunnvantsaini/Documents/Ebooks/Programming and Statistical Packages/R/Data\")\n",
    "data=read.csv(\"HousePrices.csv\")\n",
    "data$ones=1\n",
    "X=data[c(\"ones\",\"SqFt\",\"Bedrooms\")]\n",
    "y=data[,\"Price\"]"
   ]
  },
  {
   "cell_type": "code",
   "execution_count": 5,
   "metadata": {
    "collapsed": false
   },
   "outputs": [
    {
     "name": "stdout",
     "output_type": "stream",
     "text": [
      "$Coefficients\n",
      "                [,1]\n",
      "ones     -6367.59670\n",
      "SqFt        49.49886\n",
      "Bedrooms 12486.05780\n",
      "\n",
      "$Log_Lik\n",
      "         [,1]\n",
      "[1,] -1454.63\n",
      "\n",
      "$Std.Err\n",
      "       ones        SqFt    Bedrooms \n",
      "17827.91479    10.11226  2947.13432 \n",
      "\n"
     ]
    }
   ],
   "source": [
    "print(glm_linear(X,y))"
   ]
  },
  {
   "cell_type": "code",
   "execution_count": 6,
   "metadata": {
    "collapsed": false
   },
   "outputs": [
    {
     "data": {
      "text/plain": [
       "\n",
       "Call:\n",
       "glm(formula = \"Price~SqFt+Bedrooms\", family = \"gaussian\", data = data)\n",
       "\n",
       "Deviance Residuals: \n",
       "   Min      1Q  Median      3Q     Max  \n",
       "-45993  -15402   -1446   11041   48352  \n",
       "\n",
       "Coefficients:\n",
       "            Estimate Std. Error t value Pr(>|t|)    \n",
       "(Intercept) -6367.60   17827.91  -0.357    0.722    \n",
       "SqFt           49.50      10.11   4.895 2.97e-06 ***\n",
       "Bedrooms    12486.06    2947.13   4.237 4.36e-05 ***\n",
       "---\n",
       "Signif. codes:  0 ‘***’ 0.001 ‘**’ 0.01 ‘*’ 0.05 ‘.’ 0.1 ‘ ’ 1\n",
       "\n",
       "(Dispersion parameter for gaussian family taken to be 445254299)\n",
       "\n",
       "    Null deviance: 9.1685e+10  on 127  degrees of freedom\n",
       "Residual deviance: 5.5657e+10  on 125  degrees of freedom\n",
       "AIC: 2917.2\n",
       "\n",
       "Number of Fisher Scoring iterations: 2\n"
      ]
     },
     "metadata": {},
     "output_type": "display_data"
    }
   ],
   "source": [
    "mod=glm('Price~SqFt+Bedrooms',family =\"gaussian\" ,data=data)\n",
    "summary(mod)"
   ]
  },
  {
   "cell_type": "markdown",
   "metadata": {},
   "source": [
    "### GLM Logitic ###"
   ]
  },
  {
   "cell_type": "code",
   "execution_count": 7,
   "metadata": {
    "collapsed": true
   },
   "outputs": [],
   "source": [
    "glm_logistc<-function(X,y)\n",
    "{\n",
    "  beta<-rep(0,ncol(X))\n",
    "  for(i in 1:30)\n",
    "  {\n",
    "    p=1/(1+exp(-as.matrix(X)%*%beta))\n",
    "    nabla=t(as.matrix(X))%*%(p-y)\n",
    "    B=diag(as.vector(p*(1-p)))\n",
    "    H=t(as.matrix(X))%*%B%*%as.matrix(X)\n",
    "    beta=beta-(solve(H)%*%nabla)\n",
    "  }\n",
    "  log_lik=y%*%log(p)+(1-y)%*%log(1-p)\n",
    "  SE=diag(sqrt(abs(solve(H))))\n",
    "  results=list(Coefficients=beta,Log_Lik=log_lik,Std.Err=SE)\n",
    "  return(results)\n",
    "}\n"
   ]
  },
  {
   "cell_type": "code",
   "execution_count": 8,
   "metadata": {
    "collapsed": true
   },
   "outputs": [],
   "source": [
    "data=read.csv(\"DeathPenalty.csv\")\n",
    "data$ones<-1\n",
    "X=data[,c('ones','Agg','VRace')]\n",
    "y=data[,'Death']\n"
   ]
  },
  {
   "cell_type": "code",
   "execution_count": 9,
   "metadata": {
    "collapsed": false
   },
   "outputs": [
    {
     "name": "stdout",
     "output_type": "stream",
     "text": [
      "$Coefficients\n",
      "           [,1]\n",
      "ones  -6.675975\n",
      "Agg    1.539661\n",
      "VRace  1.810647\n",
      "\n",
      "$Log_Lik\n",
      "          [,1]\n",
      "[1,] -56.73836\n",
      "\n",
      "$Std.Err\n",
      "     ones       Agg     VRace \n",
      "0.7574446 0.1867264 0.5361160 \n",
      "\n"
     ]
    }
   ],
   "source": [
    "print(glm_logistc(X,y))"
   ]
  },
  {
   "cell_type": "code",
   "execution_count": 10,
   "metadata": {
    "collapsed": false
   },
   "outputs": [
    {
     "data": {
      "text/plain": [
       "\n",
       "Call:\n",
       "glm(formula = \"Death~Agg+VRace\", family = \"binomial\", data = data)\n",
       "\n",
       "Deviance Residuals: \n",
       "    Min       1Q   Median       3Q      Max  \n",
       "-1.7526  -0.2658  -0.1083  -0.1083   3.2069  \n",
       "\n",
       "Coefficients:\n",
       "            Estimate Std. Error z value Pr(>|z|)    \n",
       "(Intercept)  -6.6760     0.7574  -8.814  < 2e-16 ***\n",
       "Agg           1.5397     0.1867   8.246  < 2e-16 ***\n",
       "VRace         1.8106     0.5361   3.377 0.000732 ***\n",
       "---\n",
       "Signif. codes:  0 ‘***’ 0.001 ‘**’ 0.01 ‘*’ 0.05 ‘.’ 0.1 ‘ ’ 1\n",
       "\n",
       "(Dispersion parameter for binomial family taken to be 1)\n",
       "\n",
       "    Null deviance: 321.88  on 361  degrees of freedom\n",
       "Residual deviance: 113.48  on 359  degrees of freedom\n",
       "AIC: 119.48\n",
       "\n",
       "Number of Fisher Scoring iterations: 7\n"
      ]
     },
     "metadata": {},
     "output_type": "display_data"
    }
   ],
   "source": [
    "mod=glm('Death~Agg+VRace',data=data,family = \"binomial\")\n",
    "summary(mod)\n"
   ]
  },
  {
   "cell_type": "markdown",
   "metadata": {},
   "source": [
    "### GLM Poisson ###"
   ]
  },
  {
   "cell_type": "code",
   "execution_count": 11,
   "metadata": {
    "collapsed": true
   },
   "outputs": [],
   "source": [
    "glm_poisson<-function(X,y)\n",
    "{\n",
    "  beta<-rep(0,ncol(X))\n",
    "  for(i in 1:30)\n",
    "  {\n",
    "    mean=exp(as.matrix(X)%*%beta)\n",
    "    nabla=t(as.matrix(X))%*%(y-mean)\n",
    "    B=diag(as.vector(mean))\n",
    "    H=-1*t(as.matrix(X))%*%B%*%as.matrix(X)\n",
    "    beta=beta-(solve(H)%*%as.matrix(nabla))\n",
    "  }\n",
    "  SE=diag(sqrt(abs(solve(H))))\n",
    "  results=list(Coefficients=beta,Std.Err=SE)\n",
    "  return(results)\n",
    "}"
   ]
  },
  {
   "cell_type": "code",
   "execution_count": 12,
   "metadata": {
    "collapsed": true
   },
   "outputs": [],
   "source": [
    "data=read.csv(\"poisson_sim.csv\")\n",
    "data$ones<-1\n",
    "X<-data[,c('ones','prog','math')]\n",
    "y=data[,'num_awards']"
   ]
  },
  {
   "cell_type": "code",
   "execution_count": 13,
   "metadata": {
    "collapsed": false
   },
   "outputs": [
    {
     "name": "stdout",
     "output_type": "stream",
     "text": [
      "$Coefficients\n",
      "           [,1]\n",
      "ones -5.5780569\n",
      "prog  0.1232726\n",
      "math  0.0861210\n",
      "\n",
      "$Std.Err\n",
      "       ones        prog        math \n",
      "0.676822577 0.163261060 0.009586059 \n",
      "\n"
     ]
    }
   ],
   "source": [
    "print(glm_poisson(X,y)\n",
    ")"
   ]
  },
  {
   "cell_type": "code",
   "execution_count": 14,
   "metadata": {
    "collapsed": false
   },
   "outputs": [
    {
     "data": {
      "text/plain": [
       "\n",
       "Call:\n",
       "glm(formula = \"num_awards~prog+math\", family = \"poisson\", data = data)\n",
       "\n",
       "Deviance Residuals: \n",
       "    Min       1Q   Median       3Q      Max  \n",
       "-2.1840  -0.9003  -0.5891   0.3948   2.9539  \n",
       "\n",
       "Coefficients:\n",
       "             Estimate Std. Error z value Pr(>|z|)    \n",
       "(Intercept) -5.578057   0.676823  -8.242   <2e-16 ***\n",
       "prog         0.123273   0.163261   0.755     0.45    \n",
       "math         0.086121   0.009586   8.984   <2e-16 ***\n",
       "---\n",
       "Signif. codes:  0 ‘***’ 0.001 ‘**’ 0.01 ‘*’ 0.05 ‘.’ 0.1 ‘ ’ 1\n",
       "\n",
       "(Dispersion parameter for poisson family taken to be 1)\n",
       "\n",
       "    Null deviance: 287.67  on 199  degrees of freedom\n",
       "Residual deviance: 203.45  on 197  degrees of freedom\n",
       "AIC: 385.51\n",
       "\n",
       "Number of Fisher Scoring iterations: 6\n"
      ]
     },
     "metadata": {},
     "output_type": "display_data"
    }
   ],
   "source": [
    "mod=glm('num_awards~prog+math',data=data,family = \"poisson\")\n",
    "summary(mod)\n"
   ]
  },
  {
   "cell_type": "code",
   "execution_count": null,
   "metadata": {
    "collapsed": true
   },
   "outputs": [],
   "source": [
    "You can compare the estimated coefficients , standard errors and log likelihoods using my implimentation and the Base R implimentation of GLM s"
   ]
  }
 ],
 "metadata": {
  "anaconda-cloud": {},
  "kernelspec": {
   "display_name": "R",
   "language": "R",
   "name": "ir"
  },
  "language_info": {
   "codemirror_mode": "r",
   "file_extension": ".r",
   "mimetype": "text/x-r-source",
   "name": "R",
   "pygments_lexer": "r",
   "version": "3.3.1"
  }
 },
 "nbformat": 4,
 "nbformat_minor": 1
}
